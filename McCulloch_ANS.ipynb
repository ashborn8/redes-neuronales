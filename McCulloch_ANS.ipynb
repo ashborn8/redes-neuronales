{
  "nbformat": 4,
  "nbformat_minor": 0,
  "metadata": {
    "colab": {
      "provenance": [],
      "authorship_tag": "ABX9TyNeulaj3mEk9zDmXu99AWX3",
      "include_colab_link": true
    },
    "kernelspec": {
      "name": "python3",
      "display_name": "Python 3"
    },
    "language_info": {
      "name": "python"
    }
  },
  "cells": [
    {
      "cell_type": "markdown",
      "metadata": {
        "id": "view-in-github",
        "colab_type": "text"
      },
      "source": [
        "<a href=\"https://colab.research.google.com/github/ashborn8/redes-neuronales/blob/main/McCulloch_ANS.ipynb\" target=\"_parent\"><img src=\"https://colab.research.google.com/assets/colab-badge.svg\" alt=\"Open In Colab\"/></a>"
      ]
    },
    {
      "cell_type": "code",
      "execution_count": 2,
      "metadata": {
        "colab": {
          "base_uri": "https://localhost:8080/"
        },
        "id": "p2lsVnbZsGQh",
        "outputId": "42fd93f3-de83-4e8f-da0f-5d6f21697591"
      },
      "outputs": [
        {
          "output_type": "stream",
          "name": "stdout",
          "text": [
            "Suma pondorada (S): 1\n",
            "Salida de la neurona (y): 0\n"
          ]
        }
      ],
      "source": [
        "#Paso 1: Definir las entradas, pesos y umbral\n",
        "x1 = 1\n",
        "x2 = 0\n",
        "\n",
        "w1 = 1\n",
        "w2 = 1\n",
        "\n",
        "umbral = 2\n",
        "\n",
        "#paso 2: calcular la suma ponderada\n",
        "S = (x1 * w1) + (x2 * w2)\n",
        "\n",
        "#paso 3: Determinar la salida de la neurona\n",
        "if S >= umbral:\n",
        "  y = 1\n",
        "else:\n",
        "  y = 0\n",
        "\n",
        "# Mostrar el resultado\n",
        "print(f\"Suma pondorada (S): {S}\")\n",
        "print(f\"Salida de la neurona (y): {y}\")"
      ]
    },
    {
      "cell_type": "code",
      "source": [
        "# Compuerta AND: se activa solo si ambas entradas son 1\n",
        "x1 = 1\n",
        "x2 = 1\n",
        "\n",
        "w1 = 1\n",
        "w2 = 1\n",
        "\n",
        "umbral = 2 # Para que duncione como AND, necesitamos que S >=2\n",
        "\n",
        "S = (x1 * w1) + (x2 * w2)\n",
        "\n",
        "if S >= umbral:\n",
        "  y = 1\n",
        "else:\n",
        "  y = 0\n",
        "\n",
        "print(f\"Suma ponderada (S): {S}\")\n",
        "print(f\"Salida de la neurona (y): {y}\")\n"
      ],
      "metadata": {
        "colab": {
          "base_uri": "https://localhost:8080/"
        },
        "id": "nVJeZrDkxRe4",
        "outputId": "86795238-80aa-43d6-b1eb-6b68e506aa27"
      },
      "execution_count": 6,
      "outputs": [
        {
          "output_type": "stream",
          "name": "stdout",
          "text": [
            "Suma ponderada (S): 2\n",
            "Salida de la neurona (y): 1\n"
          ]
        }
      ]
    },
    {
      "cell_type": "code",
      "source": [
        "import numpy as np"
      ],
      "metadata": {
        "id": "HwKIrUnSy0dN"
      },
      "execution_count": 8,
      "outputs": []
    },
    {
      "cell_type": "code",
      "source": [
        "# Entradas (x1, x2, x3)\n",
        "entradas = np.array([0.5, -0.2, 0.8])\n",
        "\n",
        "# Pesos correspondientes a cada entrada (w1, w2, w3)\n",
        "pesos = np.array([0.4, 0.9, -0.3])\n",
        "\n",
        "# Bias (umbral)\n",
        "bias = 0.5"
      ],
      "metadata": {
        "id": "W2bYuE0A3QAC"
      },
      "execution_count": 10,
      "outputs": []
    },
    {
      "cell_type": "code",
      "source": [
        "#Definir la funcion de activacion sigmoide\n",
        "def sigmoid(x):\n",
        "    return 1/(1+np.exp(-x))\n",
        "\n",
        "# Modelo de la neurona artificial\n",
        "def neuronaArtificial(entradas,pesos,bias):\n",
        "  #Calcular la suma ponderada\n",
        "  z  = np.dot(entradas,pesos) + bias\n",
        "  #Aplicar la funcion de activacion\n",
        "  salida = sigmoid(z)\n",
        "  return salida"
      ],
      "metadata": {
        "id": "mzG4HtS40ipa"
      },
      "execution_count": 9,
      "outputs": []
    },
    {
      "cell_type": "code",
      "source": [
        "# calcular la salida de la neurona\n",
        "salida = neuronaArtificial(entradas,pesos,bias)\n",
        "# Mostrar el resultado\n",
        "print(f\"La salida de la neurona es: {salida}\")"
      ],
      "metadata": {
        "colab": {
          "base_uri": "https://localhost:8080/"
        },
        "id": "_9qAuY5Y0k48",
        "outputId": "63d8df5c-b1de-477d-e843-e63707b3bdfa"
      },
      "execution_count": 11,
      "outputs": [
        {
          "output_type": "stream",
          "name": "stdout",
          "text": [
            "La salida de la neurona es: 0.569546223939229\n"
          ]
        }
      ]
    },
    {
      "cell_type": "code",
      "source": [
        "import numpy as np\n",
        "import matplotlib.pyplot as plt\n",
        "\n",
        "# Simulacion de activacion neuronal\n",
        "def activacionNeuronal(entradas, pesos, umbral):\n",
        "  suma = np.dot(entradas, pesos) - umbral\n",
        "  return 1 / (1 + np.exp(-suma)) #funcion logistica\n",
        "\n",
        "entradas = np.array([0.5, -0.2, 0.8])\n",
        "pesos = np.array([0.4, 0.9, -0.3])\n",
        "umbral = 0.5\n",
        "\n",
        "activacion = activacionNeuronal(entradas, pesos, umbral)\n",
        "print(f\"La activacion de la neurona es: {activacion}\")"
      ],
      "metadata": {
        "colab": {
          "base_uri": "https://localhost:8080/"
        },
        "id": "OPevlQ5_8iMY",
        "outputId": "fc23591c-063c-4654-eb68-32809d327c58"
      },
      "execution_count": 15,
      "outputs": [
        {
          "output_type": "stream",
          "name": "stdout",
          "text": [
            "La activacion de la neurona es: 0.32739298293223956\n"
          ]
        }
      ]
    }
  ]
}