{
  "nbformat": 4,
  "nbformat_minor": 0,
  "metadata": {
    "colab": {
      "provenance": [],
      "authorship_tag": "ABX9TyOOG7qNKQR7dQbVdQmgkRQP",
      "include_colab_link": true
    },
    "kernelspec": {
      "name": "python3",
      "display_name": "Python 3"
    },
    "language_info": {
      "name": "python"
    }
  },
  "cells": [
    {
      "cell_type": "markdown",
      "metadata": {
        "id": "view-in-github",
        "colab_type": "text"
      },
      "source": [
        "<a href=\"https://colab.research.google.com/github/ashborn8/redes-neuronales/blob/main/Copia_de_McCulloch.ipynb\" target=\"_parent\"><img src=\"https://colab.research.google.com/assets/colab-badge.svg\" alt=\"Open In Colab\"/></a>"
      ]
    },
    {
      "cell_type": "code",
      "execution_count": null,
      "metadata": {
        "colab": {
          "base_uri": "https://localhost:8080/"
        },
        "id": "p2lsVnbZsGQh",
        "outputId": "42fd93f3-de83-4e8f-da0f-5d6f21697591"
      },
      "outputs": [
        {
          "output_type": "stream",
          "name": "stdout",
          "text": [
            "Suma pondorada (S): 1\n",
            "Salida de la neurona (y): 0\n"
          ]
        }
      ],
      "source": [
        "#Paso 1: Definir las entradas, pesos y umbral\n",
        "x1 = 1\n",
        "x2 = 0\n",
        "\n",
        "w1 = 1\n",
        "w2 = 1\n",
        "\n",
        "umbral = 2\n",
        "\n",
        "#paso 2: calcular la suma ponderada\n",
        "S = (x1 * w1) + (x2 * w2)\n",
        "\n",
        "#paso 3: Determinar la salida de la neurona\n",
        "if S >= umbral:\n",
        "  y = 1\n",
        "else:\n",
        "  y = 0\n",
        "\n",
        "# Mostrar el resultado\n",
        "print(f\"Suma pondorada (S): {S}\")\n",
        "print(f\"Salida de la neurona (y): {y}\")"
      ]
    }
  ]
}